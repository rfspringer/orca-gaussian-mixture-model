{
 "cells": [
  {
   "cell_type": "code",
   "execution_count": 16,
   "id": "117ec834-32a0-494f-8da6-6af00279726c",
   "metadata": {},
   "outputs": [
    {
     "name": "stdout",
     "output_type": "stream",
     "text": [
      "Requirement already satisfied: matplotlib in /Library/Frameworks/Python.framework/Versions/3.10/lib/python3.10/site-packages (3.8.0)\n",
      "Requirement already satisfied: numpy in /Library/Frameworks/Python.framework/Versions/3.10/lib/python3.10/site-packages (1.26.1)\n",
      "Requirement already satisfied: pandas in /Library/Frameworks/Python.framework/Versions/3.10/lib/python3.10/site-packages (2.1.2)\n",
      "Requirement already satisfied: tensorflow in /Library/Frameworks/Python.framework/Versions/3.10/lib/python3.10/site-packages (2.14.0)\n",
      "Requirement already satisfied: tensorflow_hub in /Library/Frameworks/Python.framework/Versions/3.10/lib/python3.10/site-packages (0.15.0)\n",
      "Requirement already satisfied: tensorflow_io in /Library/Frameworks/Python.framework/Versions/3.10/lib/python3.10/site-packages (0.34.0)\n",
      "Requirement already satisfied: scipy in /Library/Frameworks/Python.framework/Versions/3.10/lib/python3.10/site-packages (1.11.3)\n",
      "Requirement already satisfied: contourpy>=1.0.1 in /Library/Frameworks/Python.framework/Versions/3.10/lib/python3.10/site-packages (from matplotlib) (1.1.1)\n",
      "Requirement already satisfied: cycler>=0.10 in /Library/Frameworks/Python.framework/Versions/3.10/lib/python3.10/site-packages (from matplotlib) (0.12.1)\n",
      "Requirement already satisfied: fonttools>=4.22.0 in /Library/Frameworks/Python.framework/Versions/3.10/lib/python3.10/site-packages (from matplotlib) (4.43.1)\n",
      "Requirement already satisfied: kiwisolver>=1.0.1 in /Library/Frameworks/Python.framework/Versions/3.10/lib/python3.10/site-packages (from matplotlib) (1.4.5)\n",
      "Requirement already satisfied: packaging>=20.0 in /Library/Frameworks/Python.framework/Versions/3.10/lib/python3.10/site-packages (from matplotlib) (23.2)\n",
      "Requirement already satisfied: pillow>=6.2.0 in /Library/Frameworks/Python.framework/Versions/3.10/lib/python3.10/site-packages (from matplotlib) (10.1.0)\n",
      "Requirement already satisfied: pyparsing>=2.3.1 in /Library/Frameworks/Python.framework/Versions/3.10/lib/python3.10/site-packages (from matplotlib) (3.1.1)\n",
      "Requirement already satisfied: python-dateutil>=2.7 in /Library/Frameworks/Python.framework/Versions/3.10/lib/python3.10/site-packages (from matplotlib) (2.8.2)\n",
      "Requirement already satisfied: pytz>=2020.1 in /Library/Frameworks/Python.framework/Versions/3.10/lib/python3.10/site-packages (from pandas) (2023.3.post1)\n",
      "Requirement already satisfied: tzdata>=2022.1 in /Library/Frameworks/Python.framework/Versions/3.10/lib/python3.10/site-packages (from pandas) (2023.3)\n",
      "Requirement already satisfied: tensorflow-macos==2.14.0 in /Library/Frameworks/Python.framework/Versions/3.10/lib/python3.10/site-packages (from tensorflow) (2.14.0)\n",
      "Requirement already satisfied: absl-py>=1.0.0 in /Library/Frameworks/Python.framework/Versions/3.10/lib/python3.10/site-packages (from tensorflow-macos==2.14.0->tensorflow) (2.0.0)\n",
      "Requirement already satisfied: astunparse>=1.6.0 in /Library/Frameworks/Python.framework/Versions/3.10/lib/python3.10/site-packages (from tensorflow-macos==2.14.0->tensorflow) (1.6.3)\n",
      "Requirement already satisfied: flatbuffers>=23.5.26 in /Library/Frameworks/Python.framework/Versions/3.10/lib/python3.10/site-packages (from tensorflow-macos==2.14.0->tensorflow) (23.5.26)\n",
      "Requirement already satisfied: gast!=0.5.0,!=0.5.1,!=0.5.2,>=0.2.1 in /Library/Frameworks/Python.framework/Versions/3.10/lib/python3.10/site-packages (from tensorflow-macos==2.14.0->tensorflow) (0.5.4)\n",
      "Requirement already satisfied: google-pasta>=0.1.1 in /Library/Frameworks/Python.framework/Versions/3.10/lib/python3.10/site-packages (from tensorflow-macos==2.14.0->tensorflow) (0.2.0)\n",
      "Requirement already satisfied: h5py>=2.9.0 in /Library/Frameworks/Python.framework/Versions/3.10/lib/python3.10/site-packages (from tensorflow-macos==2.14.0->tensorflow) (3.10.0)\n",
      "Requirement already satisfied: libclang>=13.0.0 in /Library/Frameworks/Python.framework/Versions/3.10/lib/python3.10/site-packages (from tensorflow-macos==2.14.0->tensorflow) (16.0.6)\n",
      "Requirement already satisfied: ml-dtypes==0.2.0 in /Library/Frameworks/Python.framework/Versions/3.10/lib/python3.10/site-packages (from tensorflow-macos==2.14.0->tensorflow) (0.2.0)\n",
      "Requirement already satisfied: opt-einsum>=2.3.2 in /Library/Frameworks/Python.framework/Versions/3.10/lib/python3.10/site-packages (from tensorflow-macos==2.14.0->tensorflow) (3.3.0)\n",
      "Requirement already satisfied: protobuf!=4.21.0,!=4.21.1,!=4.21.2,!=4.21.3,!=4.21.4,!=4.21.5,<5.0.0dev,>=3.20.3 in /Library/Frameworks/Python.framework/Versions/3.10/lib/python3.10/site-packages (from tensorflow-macos==2.14.0->tensorflow) (4.24.4)\n",
      "Requirement already satisfied: setuptools in /Library/Frameworks/Python.framework/Versions/3.10/lib/python3.10/site-packages (from tensorflow-macos==2.14.0->tensorflow) (58.1.0)\n",
      "Requirement already satisfied: six>=1.12.0 in /Library/Frameworks/Python.framework/Versions/3.10/lib/python3.10/site-packages (from tensorflow-macos==2.14.0->tensorflow) (1.16.0)\n",
      "Requirement already satisfied: termcolor>=1.1.0 in /Library/Frameworks/Python.framework/Versions/3.10/lib/python3.10/site-packages (from tensorflow-macos==2.14.0->tensorflow) (2.3.0)\n",
      "Requirement already satisfied: typing-extensions>=3.6.6 in /Library/Frameworks/Python.framework/Versions/3.10/lib/python3.10/site-packages (from tensorflow-macos==2.14.0->tensorflow) (4.8.0)\n",
      "Requirement already satisfied: wrapt<1.15,>=1.11.0 in /Library/Frameworks/Python.framework/Versions/3.10/lib/python3.10/site-packages (from tensorflow-macos==2.14.0->tensorflow) (1.14.1)\n",
      "Requirement already satisfied: tensorflow-io-gcs-filesystem>=0.23.1 in /Library/Frameworks/Python.framework/Versions/3.10/lib/python3.10/site-packages (from tensorflow-macos==2.14.0->tensorflow) (0.34.0)\n",
      "Requirement already satisfied: grpcio<2.0,>=1.24.3 in /Library/Frameworks/Python.framework/Versions/3.10/lib/python3.10/site-packages (from tensorflow-macos==2.14.0->tensorflow) (1.59.2)\n",
      "Requirement already satisfied: tensorboard<2.15,>=2.14 in /Library/Frameworks/Python.framework/Versions/3.10/lib/python3.10/site-packages (from tensorflow-macos==2.14.0->tensorflow) (2.14.1)\n",
      "Requirement already satisfied: tensorflow-estimator<2.15,>=2.14.0 in /Library/Frameworks/Python.framework/Versions/3.10/lib/python3.10/site-packages (from tensorflow-macos==2.14.0->tensorflow) (2.14.0)\n",
      "Requirement already satisfied: keras<2.15,>=2.14.0 in /Library/Frameworks/Python.framework/Versions/3.10/lib/python3.10/site-packages (from tensorflow-macos==2.14.0->tensorflow) (2.14.0)\n",
      "Requirement already satisfied: wheel<1.0,>=0.23.0 in /Library/Frameworks/Python.framework/Versions/3.10/lib/python3.10/site-packages (from astunparse>=1.6.0->tensorflow-macos==2.14.0->tensorflow) (0.41.3)\n",
      "Requirement already satisfied: google-auth<3,>=1.6.3 in /Library/Frameworks/Python.framework/Versions/3.10/lib/python3.10/site-packages (from tensorboard<2.15,>=2.14->tensorflow-macos==2.14.0->tensorflow) (2.23.3)\n",
      "Requirement already satisfied: google-auth-oauthlib<1.1,>=0.5 in /Library/Frameworks/Python.framework/Versions/3.10/lib/python3.10/site-packages (from tensorboard<2.15,>=2.14->tensorflow-macos==2.14.0->tensorflow) (1.0.0)\n",
      "Requirement already satisfied: markdown>=2.6.8 in /Library/Frameworks/Python.framework/Versions/3.10/lib/python3.10/site-packages (from tensorboard<2.15,>=2.14->tensorflow-macos==2.14.0->tensorflow) (3.5)\n",
      "Requirement already satisfied: requests<3,>=2.21.0 in /Library/Frameworks/Python.framework/Versions/3.10/lib/python3.10/site-packages (from tensorboard<2.15,>=2.14->tensorflow-macos==2.14.0->tensorflow) (2.31.0)\n",
      "Requirement already satisfied: tensorboard-data-server<0.8.0,>=0.7.0 in /Library/Frameworks/Python.framework/Versions/3.10/lib/python3.10/site-packages (from tensorboard<2.15,>=2.14->tensorflow-macos==2.14.0->tensorflow) (0.7.2)\n",
      "Requirement already satisfied: werkzeug>=1.0.1 in /Library/Frameworks/Python.framework/Versions/3.10/lib/python3.10/site-packages (from tensorboard<2.15,>=2.14->tensorflow-macos==2.14.0->tensorflow) (3.0.1)\n",
      "Requirement already satisfied: cachetools<6.0,>=2.0.0 in /Library/Frameworks/Python.framework/Versions/3.10/lib/python3.10/site-packages (from google-auth<3,>=1.6.3->tensorboard<2.15,>=2.14->tensorflow-macos==2.14.0->tensorflow) (5.3.2)\n",
      "Requirement already satisfied: pyasn1-modules>=0.2.1 in /Library/Frameworks/Python.framework/Versions/3.10/lib/python3.10/site-packages (from google-auth<3,>=1.6.3->tensorboard<2.15,>=2.14->tensorflow-macos==2.14.0->tensorflow) (0.3.0)\n",
      "Requirement already satisfied: rsa<5,>=3.1.4 in /Library/Frameworks/Python.framework/Versions/3.10/lib/python3.10/site-packages (from google-auth<3,>=1.6.3->tensorboard<2.15,>=2.14->tensorflow-macos==2.14.0->tensorflow) (4.9)\n",
      "Requirement already satisfied: requests-oauthlib>=0.7.0 in /Library/Frameworks/Python.framework/Versions/3.10/lib/python3.10/site-packages (from google-auth-oauthlib<1.1,>=0.5->tensorboard<2.15,>=2.14->tensorflow-macos==2.14.0->tensorflow) (1.3.1)\n",
      "Requirement already satisfied: charset-normalizer<4,>=2 in /Library/Frameworks/Python.framework/Versions/3.10/lib/python3.10/site-packages (from requests<3,>=2.21.0->tensorboard<2.15,>=2.14->tensorflow-macos==2.14.0->tensorflow) (3.3.1)\n",
      "Requirement already satisfied: idna<4,>=2.5 in /Library/Frameworks/Python.framework/Versions/3.10/lib/python3.10/site-packages (from requests<3,>=2.21.0->tensorboard<2.15,>=2.14->tensorflow-macos==2.14.0->tensorflow) (3.4)\n",
      "Requirement already satisfied: urllib3<3,>=1.21.1 in /Library/Frameworks/Python.framework/Versions/3.10/lib/python3.10/site-packages (from requests<3,>=2.21.0->tensorboard<2.15,>=2.14->tensorflow-macos==2.14.0->tensorflow) (2.0.7)\n",
      "Requirement already satisfied: certifi>=2017.4.17 in /Library/Frameworks/Python.framework/Versions/3.10/lib/python3.10/site-packages (from requests<3,>=2.21.0->tensorboard<2.15,>=2.14->tensorflow-macos==2.14.0->tensorflow) (2023.7.22)\n",
      "Requirement already satisfied: MarkupSafe>=2.1.1 in /Library/Frameworks/Python.framework/Versions/3.10/lib/python3.10/site-packages (from werkzeug>=1.0.1->tensorboard<2.15,>=2.14->tensorflow-macos==2.14.0->tensorflow) (2.1.3)\n",
      "Requirement already satisfied: pyasn1<0.6.0,>=0.4.6 in /Library/Frameworks/Python.framework/Versions/3.10/lib/python3.10/site-packages (from pyasn1-modules>=0.2.1->google-auth<3,>=1.6.3->tensorboard<2.15,>=2.14->tensorflow-macos==2.14.0->tensorflow) (0.5.0)\n",
      "Requirement already satisfied: oauthlib>=3.0.0 in /Library/Frameworks/Python.framework/Versions/3.10/lib/python3.10/site-packages (from requests-oauthlib>=0.7.0->google-auth-oauthlib<1.1,>=0.5->tensorboard<2.15,>=2.14->tensorflow-macos==2.14.0->tensorflow) (3.2.2)\n",
      "Note: you may need to restart the kernel to use updated packages.\n"
     ]
    }
   ],
   "source": [
    "%pip install matplotlib numpy pandas tensorflow tensorflow_hub tensorflow_io scipy"
   ]
  },
  {
   "cell_type": "code",
   "execution_count": 17,
   "id": "eb7f9cba-0787-4d30-99a7-5c997e93e2a7",
   "metadata": {},
   "outputs": [],
   "source": [
    "# YAMNnet feature extraction https://www.tensorflow.org/tutorials/audio/transfer_learning_audio\n",
    "#data from https://github.com/orcasound/orcadata/wiki/Pod.Cast-data-archive\n",
    "\n",
    "import os\n",
    "\n",
    "from IPython import display\n",
    "import matplotlib.pyplot as plt\n",
    "import numpy as np\n",
    "import pandas as pd"
   ]
  },
  {
   "cell_type": "code",
   "execution_count": 18,
   "id": "afc315c2-bdf3-46f3-a560-c391da91a102",
   "metadata": {},
   "outputs": [],
   "source": [
    "import tensorflow as tf\n",
    "import tensorflow_hub as hub\n",
    "import tensorflow_io as tfio\n",
    "import scipy\n",
    "from scipy.io import wavfile\n",
    "from IPython.display import Audio"
   ]
  },
  {
   "cell_type": "code",
   "execution_count": 45,
   "id": "4023c6a8-188d-4f2d-86cf-58d4903066ce",
   "metadata": {},
   "outputs": [],
   "source": [
    "yamnet_model_handle = 'https://tfhub.dev/google/yamnet/1'\n",
    "yamnet_model = hub.load(yamnet_model_handle)\n",
    "wav_folder_path = './TrainDataLatest_PodCastAllRounds_123567910/wav/'\n",
    "# wav_folder_path = './TestDataLatest_PodCastAllRounds_123/wav/'"
   ]
  },
  {
   "cell_type": "code",
   "execution_count": 46,
   "id": "69a5c247-2f3b-4789-902e-cc39ee343b06",
   "metadata": {},
   "outputs": [],
   "source": [
    "def ensure_sample_rate(original_sample_rate, waveform,\n",
    "                       desired_sample_rate=16000):\n",
    "  \"\"\"Resample waveform if required.\"\"\"\n",
    "  if original_sample_rate != desired_sample_rate:\n",
    "    desired_length = int(round(float(len(waveform)) /\n",
    "                               original_sample_rate * desired_sample_rate))\n",
    "    waveform = scipy.signal.resample(waveform, desired_length)\n",
    "  return desired_sample_rate, waveform"
   ]
  },
  {
   "cell_type": "code",
   "execution_count": 47,
   "id": "8c6065a1-79a6-422c-bd04-68b5cdadf25b",
   "metadata": {},
   "outputs": [],
   "source": [
    "def trim_wav(sample_rate, original_wav, start, duration):\n",
    "    '''\n",
    "    :param originalWavPath: the path to the source wav file\n",
    "    :param newWavPath: output wav file * can be same path as original\n",
    "    :param start: time in seconds\n",
    "    :param end: time in seconds\n",
    "    :return:\n",
    "    '''\n",
    "    sampleRate, wav_data = sample_rate, original_wav\n",
    "    startSample = int( start * sampleRate )\n",
    "    endSample = int( (start + duration) * sampleRate )\n",
    "    return wav_data[startSample:endSample]"
   ]
  },
  {
   "cell_type": "code",
   "execution_count": 48,
   "id": "316b4777-20bf-442d-879c-a962976fc21e",
   "metadata": {},
   "outputs": [],
   "source": [
    "def normalize_wav(wav_data ):\n",
    "    return wav_data / tf.int16.max"
   ]
  },
  {
   "cell_type": "code",
   "execution_count": 49,
   "id": "75c87919-e551-4904-9df8-035d63bf8757",
   "metadata": {},
   "outputs": [],
   "source": [
    "def get_wav_for_segment(wav_filename, start_time, duration):\n",
    "    full_path = wav_folder_path + wav_filename\n",
    "    sample_rate, wav_data = wavfile.read(full_path, 'rb')\n",
    "    if len(wav_data.shape) > 1:    # for multi channel audio\n",
    "        wav_data = tf.math.reduce_mean(wav_data, axis=1)\n",
    "    sample_rate, wav_data = ensure_sample_rate(sample_rate, wav_data)\n",
    "    wav_data = trim_wav(sample_rate, wav_data, start_time, duration)\n",
    "    wav_data = normalize_wav(wav_data)\n",
    "    return sample_rate, wav_data"
   ]
  },
  {
   "cell_type": "code",
   "execution_count": 50,
   "id": "33a49329-2ead-4d70-a561-dbefafd8b4ed",
   "metadata": {},
   "outputs": [],
   "source": [
    "def get_embedding(wav_filename, start, duration):\n",
    "    sample_rate, wav_data = get_wav_for_segment(wav_filename, start, duration)\n",
    "    scores, embeddings, spectrogram = yamnet_model(wav_data)\n",
    "    embedded_wav = tf.math.reduce_mean(\n",
    "        embeddings, axis=0, keepdims=False, name=None\n",
    "    )\n",
    "    return embedded_wav.numpy()"
   ]
  },
  {
   "cell_type": "code",
   "execution_count": 51,
   "id": "f3ac983a-0eba-411b-8d3f-6d5ff0ccfd56",
   "metadata": {},
   "outputs": [],
   "source": [
    "def run_example():\n",
    "    wav_file_name = '1562337136_0004.wav'\n",
    "    start, duration = \t49.76562500000002, \t2.450000000000003\n",
    "    sample_rate, wav_data = get_wav_for_segment(wav_file_name, start, duration)\n",
    "\n",
    "    # Show some basic information about the audio.\n",
    "    duration = len(wav_data)/sample_rate\n",
    "    print(f'Sample rate: {sample_rate} Hz')\n",
    "    print(f'Total duration: {duration:.2f}s')\n",
    "    print(f'Size of the input: {len(wav_data)}')\n",
    "\n",
    "    # Listening to the wav file.\n",
    "    Audio(wav_data, rate=sample_rate)"
   ]
  },
  {
   "cell_type": "code",
   "execution_count": 52,
   "id": "19b31c0c-b84a-4cca-ac4e-995a22d14398",
   "metadata": {},
   "outputs": [
    {
     "data": {
      "text/html": [
       "<div>\n",
       "<style scoped>\n",
       "    .dataframe tbody tr th:only-of-type {\n",
       "        vertical-align: middle;\n",
       "    }\n",
       "\n",
       "    .dataframe tbody tr th {\n",
       "        vertical-align: top;\n",
       "    }\n",
       "\n",
       "    .dataframe thead th {\n",
       "        text-align: right;\n",
       "    }\n",
       "</style>\n",
       "<table border=\"1\" class=\"dataframe\">\n",
       "  <thead>\n",
       "    <tr style=\"text-align: right;\">\n",
       "      <th></th>\n",
       "      <th>dataset</th>\n",
       "      <th>wav_filename</th>\n",
       "      <th>start_time_s</th>\n",
       "      <th>duration_s</th>\n",
       "      <th>location</th>\n",
       "      <th>date</th>\n",
       "      <th>pst_or_master_tape_identifier</th>\n",
       "    </tr>\n",
       "  </thead>\n",
       "  <tbody>\n",
       "    <tr>\n",
       "      <th>0</th>\n",
       "      <td>podcast_test_round1</td>\n",
       "      <td>OS_7_05_2019_08_24_00_.wav</td>\n",
       "      <td>52.172</td>\n",
       "      <td>1.118</td>\n",
       "      <td>orcasound_lab</td>\n",
       "      <td>1562340736</td>\n",
       "      <td>OS_7_05_2019_08_24_00_.wav</td>\n",
       "    </tr>\n",
       "    <tr>\n",
       "      <th>1</th>\n",
       "      <td>podcast_test_round1</td>\n",
       "      <td>OS_7_05_2019_08_24_00_.wav</td>\n",
       "      <td>54.877</td>\n",
       "      <td>1.104</td>\n",
       "      <td>orcasound_lab</td>\n",
       "      <td>1562340736</td>\n",
       "      <td>OS_7_05_2019_08_24_00_.wav</td>\n",
       "    </tr>\n",
       "    <tr>\n",
       "      <th>2</th>\n",
       "      <td>podcast_test_round1</td>\n",
       "      <td>OS_7_05_2019_08_24_00_.wav</td>\n",
       "      <td>69.701</td>\n",
       "      <td>2.691</td>\n",
       "      <td>orcasound_lab</td>\n",
       "      <td>1562340736</td>\n",
       "      <td>OS_7_05_2019_08_24_00_.wav</td>\n",
       "    </tr>\n",
       "    <tr>\n",
       "      <th>3</th>\n",
       "      <td>podcast_test_round1</td>\n",
       "      <td>OS_7_05_2019_08_24_00_.wav</td>\n",
       "      <td>72.765</td>\n",
       "      <td>0.795</td>\n",
       "      <td>orcasound_lab</td>\n",
       "      <td>1562340736</td>\n",
       "      <td>OS_7_05_2019_08_24_00_.wav</td>\n",
       "    </tr>\n",
       "    <tr>\n",
       "      <th>4</th>\n",
       "      <td>podcast_test_round1</td>\n",
       "      <td>OS_7_05_2019_08_24_00_.wav</td>\n",
       "      <td>73.510</td>\n",
       "      <td>0.925</td>\n",
       "      <td>orcasound_lab</td>\n",
       "      <td>1562340736</td>\n",
       "      <td>OS_7_05_2019_08_24_00_.wav</td>\n",
       "    </tr>\n",
       "  </tbody>\n",
       "</table>\n",
       "</div>"
      ],
      "text/plain": [
       "               dataset                wav_filename  start_time_s  duration_s  \\\n",
       "0  podcast_test_round1  OS_7_05_2019_08_24_00_.wav        52.172       1.118   \n",
       "1  podcast_test_round1  OS_7_05_2019_08_24_00_.wav        54.877       1.104   \n",
       "2  podcast_test_round1  OS_7_05_2019_08_24_00_.wav        69.701       2.691   \n",
       "3  podcast_test_round1  OS_7_05_2019_08_24_00_.wav        72.765       0.795   \n",
       "4  podcast_test_round1  OS_7_05_2019_08_24_00_.wav        73.510       0.925   \n",
       "\n",
       "        location        date pst_or_master_tape_identifier  \n",
       "0  orcasound_lab  1562340736    OS_7_05_2019_08_24_00_.wav  \n",
       "1  orcasound_lab  1562340736    OS_7_05_2019_08_24_00_.wav  \n",
       "2  orcasound_lab  1562340736    OS_7_05_2019_08_24_00_.wav  \n",
       "3  orcasound_lab  1562340736    OS_7_05_2019_08_24_00_.wav  \n",
       "4  orcasound_lab  1562340736    OS_7_05_2019_08_24_00_.wav  "
      ]
     },
     "execution_count": 52,
     "metadata": {},
     "output_type": "execute_result"
    }
   ],
   "source": [
    "pd_annotations = pd.read_csv('./TestDataLatest_PodCastAllRounds_123/test.tsv', sep = '\\t')\n",
    "pd_annotations.head()"
   ]
  },
  {
   "cell_type": "code",
   "execution_count": 70,
   "id": "6a7b2736-6b2a-412d-b506-b360840bf16f",
   "metadata": {},
   "outputs": [
    {
     "name": "stdout",
     "output_type": "stream",
     "text": [
      "Sample rate: 16000 Hz\n",
      "Total duration: 1.50s\n",
      "Size of the input: 24000\n"
     ]
    },
    {
     "data": {
      "text/html": [
       "\n",
       "                <audio  controls=\"controls\" >\n",
       "                    <source src=\"data:audio/wav;base64,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\" type=\"audio/wav\" />\n",
       "                    Your browser does not support the audio element.\n",
       "                </audio>\n",
       "              "
      ],
      "text/plain": [
       "<IPython.lib.display.Audio object>"
      ]
     },
     "execution_count": 70,
     "metadata": {},
     "output_type": "execute_result"
    }
   ],
   "source": [
    "wav_file_name = 'rpi-bush-point_2020_09_27_23_45_00.wav'\n",
    "start, duration = \t6.5, \t1.5\n",
    "sample_rate, wav_data = get_wav_for_segment(wav_file_name, start, duration)\n",
    "\n",
    "# Show some basic information about the audio.\n",
    "duration = len(wav_data)/sample_rate\n",
    "print(f'Sample rate: {sample_rate} Hz')\n",
    "print(f'Total duration: {duration:.2f}s')\n",
    "print(f'Size of the input: {len(wav_data)}')\n",
    "\n",
    "# Listening to the wav file.\n",
    "Audio(wav_data, rate=sample_rate)"
   ]
  },
  {
   "cell_type": "code",
   "execution_count": null,
   "id": "ca4ee152-665e-476b-99e1-71b47f3e0df8",
   "metadata": {},
   "outputs": [],
   "source": [
    "embeddings_arr = []\n",
    "for index, row in pd_annotations.iterrows():\n",
    "    # if index < 4034:\n",
    "    #     continue\n",
    "    start = row['start_time_s']\n",
    "    duration = row['duration_s']\n",
    "    wav_filename = row['wav_filename']\n",
    "    if duration >= 0.96:    # min duration for yamnet\n",
    "        embedding = get_embedding(wav_filename, start, duration)\n",
    "        \n",
    "        embeddings_arr.append([index] + embedding.tolist())\n",
    "        print(index)\n",
    "    # if index % 100 == 0:\n",
    "    #     print(embeddings_arr)"
   ]
  },
  {
   "cell_type": "markdown",
   "id": "ecb71bb2-e4f9-4391-b32c-528bbfc144ff",
   "metadata": {},
   "source": [
    "wav_file_name = 'rpi-orcasound-lab_2020_09_01_16_34_00.wav'\n",
    "start, duration = \t23.75, \t1.5\n",
    "sample_rate, wav_data = get_wav_for_segment(wav_file_name, start, duration)\n",
    "\n",
    "# Show some basic information about the audio.\n",
    "duration = len(wav_data)/sample_rate\n",
    "print(f'Sample rate: {sample_rate} Hz')\n",
    "print(f'Total duration: {duration:.2f}s')\n",
    "print(f'Size of the input: {len(wav_data)}')\n",
    "\n",
    "# Listening to the wav file.\n",
    "Audio(wav_data, rate=sample_rate)"
   ]
  },
  {
   "cell_type": "code",
   "execution_count": 43,
   "id": "acea9c9e-c7f8-4901-8ba4-749f4fe77535",
   "metadata": {},
   "outputs": [],
   "source": [
    "df = pd.DataFrame(embeddings_arr)\n",
    "df.to_csv('test_embeddings', index=False)"
   ]
  },
  {
   "cell_type": "code",
   "execution_count": 14,
   "id": "6ff8f400-f19a-4d2a-bd50-42403e57703b",
   "metadata": {},
   "outputs": [],
   "source": [
    "# # Utility functions for loading audio files and making sure the sample rate is correct.\n",
    "\n",
    "# @tf.function\n",
    "# def load_wav_16k_mono(filename):\n",
    "#     \"\"\" Load a WAV file, convert it to a float tensor, resample to 16 kHz single-channel audio. \"\"\"\n",
    "#     file_contents = tf.io.read_file(filename)\n",
    "#     wav, sample_rate = tf.audio.decode_wav(\n",
    "#           file_contents,\n",
    "#           desired_channels=1)\n",
    "#     wav = tf.squeeze(wav, axis=-1)\n",
    "#     sample_rate = tf.cast(sample_rate, dtype=tf.int64)\n",
    "#     wav = tfio.audio.resample(wav, rate_in=sample_rate, rate_out=16000)\n",
    "#     return wav"
   ]
  },
  {
   "cell_type": "code",
   "execution_count": 15,
   "id": "ded6cf31-3f8a-4410-ac2b-72cb81455fc6",
   "metadata": {},
   "outputs": [],
   "source": [
    "wav_file_name = '1562337136_0004.wav'\n",
    "start, duration = \t49.76562500000002, \t2.450000000000003\n",
    "sample_rate, wav_data = get_wav_for_segment(wav_file_name, start, duration)\n",
    "scores, embeddings, spectrogram = yamnet_model(wav_data)\n",
    "embedded_wav = tf.math.reduce_mean(\n",
    "    embeddings, axis=0, keepdims=False, name=None\n",
    ")"
   ]
  },
  {
   "cell_type": "code",
   "execution_count": null,
   "id": "b7c99749-1ae7-4ca1-b4eb-d700b20e4b8d",
   "metadata": {},
   "outputs": [],
   "source": []
  },
  {
   "cell_type": "code",
   "execution_count": null,
   "id": "e59980cb-9378-421c-876a-7beb24c90241",
   "metadata": {},
   "outputs": [],
   "source": [
    "run_example()"
   ]
  },
  {
   "cell_type": "code",
   "execution_count": null,
   "id": "3d74d944-783e-4a39-a8b7-b368594ba5e6",
   "metadata": {},
   "outputs": [],
   "source": []
  },
  {
   "cell_type": "code",
   "execution_count": null,
   "id": "bac17732-7a8c-4f8c-8e7b-feb1ecd4aae1",
   "metadata": {},
   "outputs": [],
   "source": [
    "#"
   ]
  }
 ],
 "metadata": {
  "kernelspec": {
   "display_name": "Python 3 (ipykernel)",
   "language": "python",
   "name": "python3"
  },
  "language_info": {
   "codemirror_mode": {
    "name": "ipython",
    "version": 3
   },
   "file_extension": ".py",
   "mimetype": "text/x-python",
   "name": "python",
   "nbconvert_exporter": "python",
   "pygments_lexer": "ipython3",
   "version": "3.10.4"
  }
 },
 "nbformat": 4,
 "nbformat_minor": 5
}
